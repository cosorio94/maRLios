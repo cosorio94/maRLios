{
 "cells": [
  {
   "cell_type": "code",
   "execution_count": 1,
   "metadata": {},
   "outputs": [],
   "source": [
    "import torch\n",
    "import torch.nn as nn\n",
    "import random\n",
    "import gym\n",
    "import gym_super_mario_bros\n",
    "from nes_py.wrappers import JoypadSpace\n",
    "from gym_super_mario_bros import SuperMarioBrosEnv\n",
    "from tqdm import tqdm\n",
    "import pickle \n",
    "import gym\n",
    "import numpy as np\n",
    "import collections \n",
    "import cv2\n",
    "import matplotlib.pyplot as plt\n",
    "import time\n",
    "import datetime\n",
    "import json\n",
    "from toolkit.gym_env import *\n",
    "from toolkit.action_utils import *\n",
    "from toolkit.marlios_model import *\n",
    "from toolkit.train_marlios import *\n",
    "from toolkit.constants import *\n",
    "from toolkit.train_test_samples import *\n",
    "import warnings\n",
    "\n",
    "warnings.filterwarnings('ignore')\n",
    "\n",
    "%load_ext autoreload\n",
    "%autoreload 2"
   ]
  },
  {
   "cell_type": "code",
   "execution_count": 6,
   "metadata": {},
   "outputs": [
    {
     "data": {
      "text/html": [
       "Finishing last run (ID:0bxnww3l) before initializing another..."
      ],
      "text/plain": [
       "<IPython.core.display.HTML object>"
      ]
     },
     "metadata": {},
     "output_type": "display_data"
    },
    {
     "data": {
      "text/html": [
       "Waiting for W&B process to finish... <strong style=\"color:green\">(success).</strong>"
      ],
      "text/plain": [
       "<IPython.core.display.HTML object>"
      ]
     },
     "metadata": {},
     "output_type": "display_data"
    },
    {
     "data": {
      "application/vnd.jupyter.widget-view+json": {
       "model_id": "148953ea348e464f9011e71088defc32",
       "version_major": 2,
       "version_minor": 0
      },
      "text/plain": [
       "VBox(children=(Label(value='0.001 MB of 0.001 MB uploaded (0.000 MB deduped)\\r'), FloatProgress(value=1.0, max…"
      ]
     },
     "metadata": {},
     "output_type": "display_data"
    },
    {
     "data": {
      "text/html": [
       "<style>\n",
       "    table.wandb td:nth-child(1) { padding: 0 10px; text-align: left ; width: auto;} td:nth-child(2) {text-align: left ; width: 100%}\n",
       "    .wandb-row { display: flex; flex-direction: row; flex-wrap: wrap; justify-content: flex-start; width: 100% }\n",
       "    .wandb-col { display: flex; flex-direction: column; flex-basis: 100%; flex: 1; padding: 10px; }\n",
       "    </style>\n",
       "<div class=\"wandb-row\"><div class=\"wandb-col\"><h3>Run history:</h3><br/><table class=\"wandb\"><tr><td>avg_loss</td><td>▁▂▂▂▄▂▅▆▄▅▇▅█▇█▆▇▆█▆▆▄█▅▅▆▆▅▅▃▄▅▄▆▃▆▂▄▃▄</td></tr><tr><td>avg_std_dev</td><td>▁▁▁▁▁▁▇▇▇▇▇▇▇▇▇▇████████████████▇▇▇▇▇▇▇▇</td></tr><tr><td>avg_total_rewards</td><td>▂▂▂▂▂▂▁▁▁▁▁▄▄▄▄▄▇▇▇▇▇███████████▇▇▇▇▇▆▆▆</td></tr><tr><td>current exploration</td><td>█▃▁▁▁▁▁▁▁▁▁▁▁▁▁▁▁▁▁▁▁▁▁▁▁▁▁▁▁▁▁▁▁▁▁▁▁▁▁▁</td></tr><tr><td>current lr</td><td>██▇▆▆▅▅▅▄▄▄▃▃▃▃▃▂▂▂▂▂▂▂▂▂▁▁▁▁▁▁▁▁▁▁▁▁▁▁▁</td></tr><tr><td>flag acquired</td><td>▁▁▁▁▁▁▁▁▁▁▁▁▁▁▁▁▁▁▁▁▁▁▁▁▁▁▁▁▁▁▁▁▁▁▁▁▁▁▁▁</td></tr><tr><td>max_time_per_ep</td><td>▁▁▁▁▁▁▁▁▁▁▁▁▁▁▁▁▁▁▁▁▁▁▁▁▁▁▁▁▁▁▁▁▁▁▁▁▁▁▁▁</td></tr><tr><td>time</td><td>▄▅▁▄▂▅▃▅▅▅▅▆▄▆▆▂▆▆▁▆▆▇▇▁▇▂▇▇▇▁▇▇██▁█▁█▁█</td></tr><tr><td>total reward</td><td>▆▅▃█▃▂▆▄▅▃▅▁█▁▅▃▁▅▄▅▅▅▆▄▄▆▂▄▁▄▄▁▅▁▄▂▄▂▄▂</td></tr><tr><td>x_position</td><td>▆▅▂█▂▁▆▃▅▂▅▁█▁▅▂▁▅▂▆▅▅▇▃▅▆▂▅▁▂▅▁▆▂▃▃▂▂▃▂</td></tr></table><br/></div><div class=\"wandb-col\"><h3>Run summary:</h3><br/><table class=\"wandb\"><tr><td>avg_loss</td><td>0.75895</td></tr><tr><td>avg_std_dev</td><td>314.4035</td></tr><tr><td>avg_total_rewards</td><td>112.448</td></tr><tr><td>current exploration</td><td>0.1</td></tr><tr><td>current lr</td><td>0.0</td></tr><tr><td>flag acquired</td><td>False</td></tr><tr><td>max_time_per_ep</td><td>150</td></tr><tr><td>time</td><td>350</td></tr><tr><td>total reward</td><td>728.0</td></tr><tr><td>x_position</td><td>226</td></tr></table><br/></div></div>"
      ],
      "text/plain": [
       "<IPython.core.display.HTML object>"
      ]
     },
     "metadata": {},
     "output_type": "display_data"
    },
    {
     "data": {
      "text/html": [
       " View run <strong style=\"color:#cdcd00\">fresh-paper-53</strong> at: <a href='https://wandb.ai/marlios/my-awesome-project/runs/0bxnww3l' target=\"_blank\">https://wandb.ai/marlios/my-awesome-project/runs/0bxnww3l</a><br/>Synced 5 W&B file(s), 0 media file(s), 0 artifact file(s) and 0 other file(s)"
      ],
      "text/plain": [
       "<IPython.core.display.HTML object>"
      ]
     },
     "metadata": {},
     "output_type": "display_data"
    },
    {
     "data": {
      "text/html": [
       "Find logs at: <code>./wandb/run-20230426_101301-0bxnww3l/logs</code>"
      ],
      "text/plain": [
       "<IPython.core.display.HTML object>"
      ]
     },
     "metadata": {},
     "output_type": "display_data"
    },
    {
     "data": {
      "text/html": [
       "Successfully finished last run (ID:0bxnww3l). Initializing new run:<br/>"
      ],
      "text/plain": [
       "<IPython.core.display.HTML object>"
      ]
     },
     "metadata": {},
     "output_type": "display_data"
    },
    {
     "data": {
      "application/vnd.jupyter.widget-view+json": {
       "model_id": "b1b82a98fcbd46708a5d5b548d7febd6",
       "version_major": 2,
       "version_minor": 0
      },
      "text/plain": [
       "VBox(children=(Label(value='Waiting for wandb.init()...\\r'), FloatProgress(value=0.016752806247677655, max=1.0…"
      ]
     },
     "metadata": {},
     "output_type": "display_data"
    },
    {
     "data": {
      "text/html": [
       "Tracking run with wandb version 0.15.0"
      ],
      "text/plain": [
       "<IPython.core.display.HTML object>"
      ]
     },
     "metadata": {},
     "output_type": "display_data"
    },
    {
     "data": {
      "text/html": [
       "Run data is saved locally in <code>/Users/cameronwitz/Desktop/CSCI_566/maRLios/wandb/run-20230428_092022-41kn22sx</code>"
      ],
      "text/plain": [
       "<IPython.core.display.HTML object>"
      ]
     },
     "metadata": {},
     "output_type": "display_data"
    },
    {
     "data": {
      "text/html": [
       "Syncing run <strong><a href='https://wandb.ai/marlios/my-awesome-project/runs/41kn22sx' target=\"_blank\">lilac-armadillo-65</a></strong> to <a href='https://wandb.ai/marlios/my-awesome-project' target=\"_blank\">Weights & Biases</a> (<a href='https://wandb.me/run' target=\"_blank\">docs</a>)<br/>"
      ],
      "text/plain": [
       "<IPython.core.display.HTML object>"
      ]
     },
     "metadata": {},
     "output_type": "display_data"
    },
    {
     "data": {
      "text/html": [
       " View project at <a href='https://wandb.ai/marlios/my-awesome-project' target=\"_blank\">https://wandb.ai/marlios/my-awesome-project</a>"
      ],
      "text/plain": [
       "<IPython.core.display.HTML object>"
      ]
     },
     "metadata": {},
     "output_type": "display_data"
    },
    {
     "data": {
      "text/html": [
       " View run at <a href='https://wandb.ai/marlios/my-awesome-project/runs/41kn22sx' target=\"_blank\">https://wandb.ai/marlios/my-awesome-project/runs/41kn22sx</a>"
      ],
      "text/plain": [
       "<IPython.core.display.HTML object>"
      ]
     },
     "metadata": {},
     "output_type": "display_data"
    },
    {
     "name": "stderr",
     "output_type": "stream",
     "text": [
      " 12%|█▏        | 601/5000 [2:36:43<56:07:47, 45.93s/it]wandb: Network error (ConnectionError), entering retry loop.\n",
      " 17%|█▋        | 855/5000 [4:37:22<15:12:38, 13.21s/it]   "
     ]
    }
   ],
   "source": [
    "train(\n",
    "    name=\"Similar Architecture to sage-grass, but with batchnorm2d\",\n",
    "    training_mode=True, \n",
    "    pretrained=False, # use the pretrained model\n",
    "    ep_per_stat=100, \n",
    "    gamma=0.9,\n",
    "    num_episodes=5000,\n",
    "    run_id=None,\n",
    "    lr=1e-6, # starting here because the last one was about here when it stopped\n",
    "    lr_decay= 0.999,\n",
    "    exploration_min=0.1,\n",
    "    exploration_max = 1, # setting this to the min for the rerun model\n",
    "    exploration_decay=0.9995, \n",
    "    action_space=TRAIN_SET,\n",
    "    n_actions=32,\n",
    "    debug=True,\n",
    "    device='mps',\n",
    "    max_time_per_ep=100 # limit runs to 200 seconds\n",
    "    )\n",
    "\n",
    "# train(\n",
    "#     name=\"Lowering min lr by a factor of ten\",\n",
    "#     training_mode=True, \n",
    "#     pretrained=True, # use the pretrained model\n",
    "#     ep_per_stat=100, \n",
    "#     gamma=0.9,\n",
    "#     num_episodes=3000,\n",
    "#     run_id='1682283822',\n",
    "#     lr=1e-8, \n",
    "#     lr_decay= 0.999,\n",
    "#     exploration_min=0.02,\n",
    "#     exploration_max = 0.02, # setting this to the min for the rerun model\n",
    "#     exploration_decay=0.995, \n",
    "#     action_space=SIMPLE_MOVEMENT,\n",
    "#     n_actions=len(SIMPLE_MOVEMENT),\n",
    "#     debug=True,\n",
    "#     device='mps',\n",
    "#     max_time_per_ep=150 # limit runs to 200 seconds\n",
    "#     )\n"
   ]
  },
  {
   "cell_type": "code",
   "execution_count": null,
   "metadata": {},
   "outputs": [],
   "source": [
    "# only need to run if you cut the above off early, even then you don't 'have' to but it will do it automatically for you, it's just not as nice to have the output above as well\n",
    "wandb.finish()"
   ]
  },
  {
   "cell_type": "code",
   "execution_count": null,
   "metadata": {},
   "outputs": [],
   "source": [
    "# cp ModelCheckpoints/*1682283822* . resetting this run here\n",
    "\n",
    "total_rewards = load_item('total_rewards-{}.pkl'.format(run_id))\n",
    "plot_rewards(ep_per_stat=100, total_rewards=total_rewards)"
   ]
  }
 ],
 "metadata": {
  "kernelspec": {
   "display_name": "env",
   "language": "python",
   "name": "python3"
  },
  "language_info": {
   "codemirror_mode": {
    "name": "ipython",
    "version": 3
   },
   "file_extension": ".py",
   "mimetype": "text/x-python",
   "name": "python",
   "nbconvert_exporter": "python",
   "pygments_lexer": "ipython3",
   "version": "3.10.11"
  },
  "orig_nbformat": 4
 },
 "nbformat": 4,
 "nbformat_minor": 2
}
